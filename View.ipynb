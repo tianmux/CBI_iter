{
 "cells": [
  {
   "cell_type": "code",
   "execution_count": 28,
   "metadata": {},
   "outputs": [],
   "source": [
    "import matplotlib.pyplot as plt\n",
    "import matplotlib.ticker as ticker\n",
    "import numpy as np\n",
    "import struct\n",
    "import sys\n",
    "from array import array\n",
    "import itertools\n",
    "import os\n",
    "import sys\n",
    "from scipy import signal\n",
    "from scipy.optimize import curve_fit\n",
    "import subprocess\n",
    "import shutil\n",
    "import pandas as pd\n",
    "pi = np.pi\n",
    "clight = 299792458"
   ]
  },
  {
   "cell_type": "code",
   "execution_count": 29,
   "metadata": {},
   "outputs": [],
   "source": [
    "working_folder = 'bench/'\n",
    "home0 = os.getcwd()\n",
    "home1 = os.path.join(home0,working_folder)\n",
    "cwd = working_folder#os.path.join(home0,working_folder)\n"
   ]
  },
  {
   "cell_type": "code",
   "execution_count": 45,
   "metadata": {},
   "outputs": [],
   "source": [
    "resultfn = 'ImOmega13551.txt'\n",
    "resultfn = os.path.join(cwd,resultfn)\n",
    "data = pd.read_csv(resultfn,header=[0,1])\n",
    "data= data.dropna(axis=1)\n",
    "haxis = np.sort([float(i) for i in data.columns.levels[0][:-1]])\n",
    "haxis2 = np.sort([float(i) for i in data.columns.levels[1][:-1]])"
   ]
  },
  {
   "cell_type": "code",
   "execution_count": 46,
   "metadata": {},
   "outputs": [],
   "source": [
    "resultfn = 'ReOmega13551.txt'\n",
    "resultfn = os.path.join(cwd,resultfn)\n",
    "dataRe = pd.read_csv(resultfn,header=[0,1])\n",
    "dataRe= dataRe.dropna(axis=1)\n"
   ]
  },
  {
   "cell_type": "code",
   "execution_count": 47,
   "metadata": {},
   "outputs": [
    {
     "data": {
      "text/plain": [
       "array(['-102000', '-105000', '-108000', '-111000', '-114000', '-117000',\n",
       "       '-12000', '-120000', '-123000', '-126000', '-129000', '-132000',\n",
       "       '-135000', '-138000', '-141000', '-144000', '-147000', '-15000',\n",
       "       '-150000', '-18000', '-21000', '-24000', '-27000', '-3000',\n",
       "       '-30000', '-33000', '-36000', '-39000', '-42000', '-45000',\n",
       "       '-48000', '-51000', '-54000', '-57000', '-6000', '-60000',\n",
       "       '-63000', '-66000', '-69000', '-72000', '-75000', '-78000',\n",
       "       '-81000', '-84000', '-87000', '-9000', '-90000', '-93000',\n",
       "       '-96000', '-99000', '0', '102000', '105000', '108000', '111000',\n",
       "       '114000', '117000', '12000', '120000', '123000', '126000',\n",
       "       '129000', '132000', '135000', '138000', '141000', '144000',\n",
       "       '147000', '15000', '18000', '21000', '24000', '27000', '3000',\n",
       "       '30000', '33000', '36000', '39000', '42000', '45000', '48000',\n",
       "       '51000', '54000', '57000', '6000', '60000', '63000', '66000',\n",
       "       '69000', '72000', '75000', '78000', '81000', '84000', '87000',\n",
       "       '9000', '90000', '93000', '96000', '99000'], dtype=object)"
      ]
     },
     "execution_count": 47,
     "metadata": {},
     "output_type": "execute_result"
    }
   ],
   "source": [
    "np.sort(data.columns.levels[0][:-1])"
   ]
  },
  {
   "cell_type": "code",
   "execution_count": 48,
   "metadata": {},
   "outputs": [
    {
     "data": {
      "text/html": [
       "<div>\n",
       "<style scoped>\n",
       "    .dataframe tbody tr th:only-of-type {\n",
       "        vertical-align: middle;\n",
       "    }\n",
       "\n",
       "    .dataframe tbody tr th {\n",
       "        vertical-align: top;\n",
       "    }\n",
       "\n",
       "    .dataframe thead tr th {\n",
       "        text-align: left;\n",
       "    }\n",
       "</style>\n",
       "<table border=\"1\" class=\"dataframe\">\n",
       "  <thead>\n",
       "    <tr>\n",
       "      <th></th>\n",
       "      <th>-150000</th>\n",
       "      <th>-147000</th>\n",
       "      <th>-144000</th>\n",
       "      <th>-141000</th>\n",
       "      <th>-138000</th>\n",
       "      <th>-135000</th>\n",
       "      <th>-132000</th>\n",
       "      <th>-129000</th>\n",
       "      <th>-126000</th>\n",
       "      <th>-123000</th>\n",
       "      <th>...</th>\n",
       "      <th>120000</th>\n",
       "      <th>123000</th>\n",
       "      <th>126000</th>\n",
       "      <th>129000</th>\n",
       "      <th>132000</th>\n",
       "      <th>135000</th>\n",
       "      <th>138000</th>\n",
       "      <th>141000</th>\n",
       "      <th>144000</th>\n",
       "      <th>147000</th>\n",
       "    </tr>\n",
       "    <tr>\n",
       "      <th></th>\n",
       "      <th>-150000</th>\n",
       "      <th>-147000</th>\n",
       "      <th>-144000</th>\n",
       "      <th>-141000</th>\n",
       "      <th>-138000</th>\n",
       "      <th>-135000</th>\n",
       "      <th>-132000</th>\n",
       "      <th>-129000</th>\n",
       "      <th>-126000</th>\n",
       "      <th>-123000</th>\n",
       "      <th>...</th>\n",
       "      <th>120000</th>\n",
       "      <th>123000</th>\n",
       "      <th>126000</th>\n",
       "      <th>129000</th>\n",
       "      <th>132000</th>\n",
       "      <th>135000</th>\n",
       "      <th>138000</th>\n",
       "      <th>141000</th>\n",
       "      <th>144000</th>\n",
       "      <th>147000</th>\n",
       "    </tr>\n",
       "  </thead>\n",
       "  <tbody>\n",
       "    <tr>\n",
       "      <th>0.045562</th>\n",
       "      <td>-4.317160e-09</td>\n",
       "      <td>-4.594450e-09</td>\n",
       "      <td>-4.895360e-09</td>\n",
       "      <td>-5.222460e-09</td>\n",
       "      <td>-5.578660e-09</td>\n",
       "      <td>-5.967270e-09</td>\n",
       "      <td>-6.392060e-09</td>\n",
       "      <td>-6.857330e-09</td>\n",
       "      <td>-7.368030e-09</td>\n",
       "      <td>-7.929820e-09</td>\n",
       "      <td>...</td>\n",
       "      <td>8.873380e-09</td>\n",
       "      <td>8.248970e-09</td>\n",
       "      <td>7.682560e-09</td>\n",
       "      <td>7.167580e-09</td>\n",
       "      <td>6.698300e-09</td>\n",
       "      <td>6.269780e-09</td>\n",
       "      <td>5.877670e-09</td>\n",
       "      <td>5.518200e-09</td>\n",
       "      <td>5.188020e-09</td>\n",
       "      <td>4.884230e-09</td>\n",
       "    </tr>\n",
       "    <tr>\n",
       "      <th>0.091123</th>\n",
       "      <td>-1.726840e-08</td>\n",
       "      <td>-1.837760e-08</td>\n",
       "      <td>-1.958120e-08</td>\n",
       "      <td>-2.088960e-08</td>\n",
       "      <td>-2.231440e-08</td>\n",
       "      <td>-2.386890e-08</td>\n",
       "      <td>-2.556800e-08</td>\n",
       "      <td>-2.742910e-08</td>\n",
       "      <td>-2.947180e-08</td>\n",
       "      <td>-3.171900e-08</td>\n",
       "      <td>...</td>\n",
       "      <td>3.549330e-08</td>\n",
       "      <td>3.299560e-08</td>\n",
       "      <td>3.073000e-08</td>\n",
       "      <td>2.867010e-08</td>\n",
       "      <td>2.679300e-08</td>\n",
       "      <td>2.507890e-08</td>\n",
       "      <td>2.351050e-08</td>\n",
       "      <td>2.207260e-08</td>\n",
       "      <td>2.075190e-08</td>\n",
       "      <td>1.953670e-08</td>\n",
       "    </tr>\n",
       "    <tr>\n",
       "      <th>0.136685</th>\n",
       "      <td>-3.885350e-08</td>\n",
       "      <td>-4.134910e-08</td>\n",
       "      <td>-4.405730e-08</td>\n",
       "      <td>-4.700110e-08</td>\n",
       "      <td>-5.020690e-08</td>\n",
       "      <td>-5.370440e-08</td>\n",
       "      <td>-5.752740e-08</td>\n",
       "      <td>-6.171480e-08</td>\n",
       "      <td>-6.631100e-08</td>\n",
       "      <td>-7.136720e-08</td>\n",
       "      <td>...</td>\n",
       "      <td>7.985930e-08</td>\n",
       "      <td>7.423960e-08</td>\n",
       "      <td>6.914200e-08</td>\n",
       "      <td>6.450720e-08</td>\n",
       "      <td>6.028370e-08</td>\n",
       "      <td>5.642710e-08</td>\n",
       "      <td>5.289810e-08</td>\n",
       "      <td>4.966290e-08</td>\n",
       "      <td>4.669130e-08</td>\n",
       "      <td>4.395720e-08</td>\n",
       "    </tr>\n",
       "    <tr>\n",
       "      <th>0.182247</th>\n",
       "      <td>-6.907200e-08</td>\n",
       "      <td>-7.350860e-08</td>\n",
       "      <td>-7.832310e-08</td>\n",
       "      <td>-8.355660e-08</td>\n",
       "      <td>-8.925570e-08</td>\n",
       "      <td>-9.547340e-08</td>\n",
       "      <td>-1.022700e-07</td>\n",
       "      <td>-1.097140e-07</td>\n",
       "      <td>-1.178850e-07</td>\n",
       "      <td>-1.268740e-07</td>\n",
       "      <td>...</td>\n",
       "      <td>1.419710e-07</td>\n",
       "      <td>1.319800e-07</td>\n",
       "      <td>1.229180e-07</td>\n",
       "      <td>1.146780e-07</td>\n",
       "      <td>1.071700e-07</td>\n",
       "      <td>1.003140e-07</td>\n",
       "      <td>9.404020e-08</td>\n",
       "      <td>8.828870e-08</td>\n",
       "      <td>8.300600e-08</td>\n",
       "      <td>7.814530e-08</td>\n",
       "    </tr>\n",
       "    <tr>\n",
       "      <th>0.227809</th>\n",
       "      <td>-1.079240e-07</td>\n",
       "      <td>-1.148560e-07</td>\n",
       "      <td>-1.223780e-07</td>\n",
       "      <td>-1.305560e-07</td>\n",
       "      <td>-1.394600e-07</td>\n",
       "      <td>-1.491760e-07</td>\n",
       "      <td>-1.597950e-07</td>\n",
       "      <td>-1.714270e-07</td>\n",
       "      <td>-1.841940e-07</td>\n",
       "      <td>-1.982380e-07</td>\n",
       "      <td>...</td>\n",
       "      <td>2.218280e-07</td>\n",
       "      <td>2.062180e-07</td>\n",
       "      <td>1.920580e-07</td>\n",
       "      <td>1.791830e-07</td>\n",
       "      <td>1.674520e-07</td>\n",
       "      <td>1.567390e-07</td>\n",
       "      <td>1.469360e-07</td>\n",
       "      <td>1.379500e-07</td>\n",
       "      <td>1.296960e-07</td>\n",
       "      <td>1.221010e-07</td>\n",
       "    </tr>\n",
       "    <tr>\n",
       "      <th>0.273370</th>\n",
       "      <td>-1.554080e-07</td>\n",
       "      <td>-1.653900e-07</td>\n",
       "      <td>-1.762230e-07</td>\n",
       "      <td>-1.879980e-07</td>\n",
       "      <td>-2.008210e-07</td>\n",
       "      <td>-2.148100e-07</td>\n",
       "      <td>-2.301020e-07</td>\n",
       "      <td>-2.468520e-07</td>\n",
       "      <td>-2.652360e-07</td>\n",
       "      <td>-2.854600e-07</td>\n",
       "      <td>...</td>\n",
       "      <td>3.194290e-07</td>\n",
       "      <td>2.969510e-07</td>\n",
       "      <td>2.765610e-07</td>\n",
       "      <td>2.580220e-07</td>\n",
       "      <td>2.411280e-07</td>\n",
       "      <td>2.257020e-07</td>\n",
       "      <td>2.115860e-07</td>\n",
       "      <td>1.986460e-07</td>\n",
       "      <td>1.867600e-07</td>\n",
       "      <td>1.758230e-07</td>\n",
       "    </tr>\n",
       "    <tr>\n",
       "      <th>0.318932</th>\n",
       "      <td>-2.115250e-07</td>\n",
       "      <td>-2.251110e-07</td>\n",
       "      <td>-2.398550e-07</td>\n",
       "      <td>-2.558830e-07</td>\n",
       "      <td>-2.733360e-07</td>\n",
       "      <td>-2.923770e-07</td>\n",
       "      <td>-3.131910e-07</td>\n",
       "      <td>-3.359890e-07</td>\n",
       "      <td>-3.610120e-07</td>\n",
       "      <td>-3.885390e-07</td>\n",
       "      <td>...</td>\n",
       "      <td>4.347740e-07</td>\n",
       "      <td>4.041790e-07</td>\n",
       "      <td>3.764260e-07</td>\n",
       "      <td>3.511930e-07</td>\n",
       "      <td>3.281990e-07</td>\n",
       "      <td>3.072020e-07</td>\n",
       "      <td>2.879900e-07</td>\n",
       "      <td>2.703760e-07</td>\n",
       "      <td>2.541980e-07</td>\n",
       "      <td>2.393120e-07</td>\n",
       "    </tr>\n",
       "    <tr>\n",
       "      <th>0.364494</th>\n",
       "      <td>-2.762730e-07</td>\n",
       "      <td>-2.940190e-07</td>\n",
       "      <td>-3.132760e-07</td>\n",
       "      <td>-3.342100e-07</td>\n",
       "      <td>-3.570060e-07</td>\n",
       "      <td>-3.818760e-07</td>\n",
       "      <td>-4.090610e-07</td>\n",
       "      <td>-4.388370e-07</td>\n",
       "      <td>-4.715200e-07</td>\n",
       "      <td>-5.074740e-07</td>\n",
       "      <td>...</td>\n",
       "      <td>5.678630e-07</td>\n",
       "      <td>5.279020e-07</td>\n",
       "      <td>4.916540e-07</td>\n",
       "      <td>4.586960e-07</td>\n",
       "      <td>4.286640e-07</td>\n",
       "      <td>4.012390e-07</td>\n",
       "      <td>3.761460e-07</td>\n",
       "      <td>3.531400e-07</td>\n",
       "      <td>3.320100e-07</td>\n",
       "      <td>3.125670e-07</td>\n",
       "    </tr>\n",
       "    <tr>\n",
       "      <th>0.410056</th>\n",
       "      <td>-3.496530e-07</td>\n",
       "      <td>-3.721120e-07</td>\n",
       "      <td>-3.964850e-07</td>\n",
       "      <td>-4.229780e-07</td>\n",
       "      <td>-4.518290e-07</td>\n",
       "      <td>-4.833050e-07</td>\n",
       "      <td>-5.177110e-07</td>\n",
       "      <td>-5.553960e-07</td>\n",
       "      <td>-5.967600e-07</td>\n",
       "      <td>-6.422640e-07</td>\n",
       "      <td>...</td>\n",
       "      <td>7.186940e-07</td>\n",
       "      <td>6.681190e-07</td>\n",
       "      <td>6.222430e-07</td>\n",
       "      <td>5.805310e-07</td>\n",
       "      <td>5.425220e-07</td>\n",
       "      <td>5.078130e-07</td>\n",
       "      <td>4.760540e-07</td>\n",
       "      <td>4.469380e-07</td>\n",
       "      <td>4.201950e-07</td>\n",
       "      <td>3.955890e-07</td>\n",
       "    </tr>\n",
       "    <tr>\n",
       "      <th>0.455617</th>\n",
       "      <td>-4.316640e-07</td>\n",
       "      <td>-4.593910e-07</td>\n",
       "      <td>-4.894800e-07</td>\n",
       "      <td>-5.221880e-07</td>\n",
       "      <td>-5.578060e-07</td>\n",
       "      <td>-5.966650e-07</td>\n",
       "      <td>-6.391410e-07</td>\n",
       "      <td>-6.856660e-07</td>\n",
       "      <td>-7.367320e-07</td>\n",
       "      <td>-7.929080e-07</td>\n",
       "      <td>...</td>\n",
       "      <td>8.872670e-07</td>\n",
       "      <td>8.248300e-07</td>\n",
       "      <td>7.681930e-07</td>\n",
       "      <td>7.166970e-07</td>\n",
       "      <td>6.697720e-07</td>\n",
       "      <td>6.269220e-07</td>\n",
       "      <td>5.877140e-07</td>\n",
       "      <td>5.517680e-07</td>\n",
       "      <td>5.187530e-07</td>\n",
       "      <td>4.883750e-07</td>\n",
       "    </tr>\n",
       "  </tbody>\n",
       "</table>\n",
       "<p>10 rows × 99 columns</p>\n",
       "</div>"
      ],
      "text/plain": [
       "               -150000       -147000       -144000       -141000  \\\n",
       "               -150000       -147000       -144000       -141000   \n",
       "0.045562 -4.317160e-09 -4.594450e-09 -4.895360e-09 -5.222460e-09   \n",
       "0.091123 -1.726840e-08 -1.837760e-08 -1.958120e-08 -2.088960e-08   \n",
       "0.136685 -3.885350e-08 -4.134910e-08 -4.405730e-08 -4.700110e-08   \n",
       "0.182247 -6.907200e-08 -7.350860e-08 -7.832310e-08 -8.355660e-08   \n",
       "0.227809 -1.079240e-07 -1.148560e-07 -1.223780e-07 -1.305560e-07   \n",
       "0.273370 -1.554080e-07 -1.653900e-07 -1.762230e-07 -1.879980e-07   \n",
       "0.318932 -2.115250e-07 -2.251110e-07 -2.398550e-07 -2.558830e-07   \n",
       "0.364494 -2.762730e-07 -2.940190e-07 -3.132760e-07 -3.342100e-07   \n",
       "0.410056 -3.496530e-07 -3.721120e-07 -3.964850e-07 -4.229780e-07   \n",
       "0.455617 -4.316640e-07 -4.593910e-07 -4.894800e-07 -5.221880e-07   \n",
       "\n",
       "               -138000       -135000       -132000       -129000  \\\n",
       "               -138000       -135000       -132000       -129000   \n",
       "0.045562 -5.578660e-09 -5.967270e-09 -6.392060e-09 -6.857330e-09   \n",
       "0.091123 -2.231440e-08 -2.386890e-08 -2.556800e-08 -2.742910e-08   \n",
       "0.136685 -5.020690e-08 -5.370440e-08 -5.752740e-08 -6.171480e-08   \n",
       "0.182247 -8.925570e-08 -9.547340e-08 -1.022700e-07 -1.097140e-07   \n",
       "0.227809 -1.394600e-07 -1.491760e-07 -1.597950e-07 -1.714270e-07   \n",
       "0.273370 -2.008210e-07 -2.148100e-07 -2.301020e-07 -2.468520e-07   \n",
       "0.318932 -2.733360e-07 -2.923770e-07 -3.131910e-07 -3.359890e-07   \n",
       "0.364494 -3.570060e-07 -3.818760e-07 -4.090610e-07 -4.388370e-07   \n",
       "0.410056 -4.518290e-07 -4.833050e-07 -5.177110e-07 -5.553960e-07   \n",
       "0.455617 -5.578060e-07 -5.966650e-07 -6.391410e-07 -6.856660e-07   \n",
       "\n",
       "               -126000       -123000  ...        120000        123000  \\\n",
       "               -126000       -123000  ...        120000        123000   \n",
       "0.045562 -7.368030e-09 -7.929820e-09  ...  8.873380e-09  8.248970e-09   \n",
       "0.091123 -2.947180e-08 -3.171900e-08  ...  3.549330e-08  3.299560e-08   \n",
       "0.136685 -6.631100e-08 -7.136720e-08  ...  7.985930e-08  7.423960e-08   \n",
       "0.182247 -1.178850e-07 -1.268740e-07  ...  1.419710e-07  1.319800e-07   \n",
       "0.227809 -1.841940e-07 -1.982380e-07  ...  2.218280e-07  2.062180e-07   \n",
       "0.273370 -2.652360e-07 -2.854600e-07  ...  3.194290e-07  2.969510e-07   \n",
       "0.318932 -3.610120e-07 -3.885390e-07  ...  4.347740e-07  4.041790e-07   \n",
       "0.364494 -4.715200e-07 -5.074740e-07  ...  5.678630e-07  5.279020e-07   \n",
       "0.410056 -5.967600e-07 -6.422640e-07  ...  7.186940e-07  6.681190e-07   \n",
       "0.455617 -7.367320e-07 -7.929080e-07  ...  8.872670e-07  8.248300e-07   \n",
       "\n",
       "                126000        129000        132000        135000  \\\n",
       "                126000        129000        132000        135000   \n",
       "0.045562  7.682560e-09  7.167580e-09  6.698300e-09  6.269780e-09   \n",
       "0.091123  3.073000e-08  2.867010e-08  2.679300e-08  2.507890e-08   \n",
       "0.136685  6.914200e-08  6.450720e-08  6.028370e-08  5.642710e-08   \n",
       "0.182247  1.229180e-07  1.146780e-07  1.071700e-07  1.003140e-07   \n",
       "0.227809  1.920580e-07  1.791830e-07  1.674520e-07  1.567390e-07   \n",
       "0.273370  2.765610e-07  2.580220e-07  2.411280e-07  2.257020e-07   \n",
       "0.318932  3.764260e-07  3.511930e-07  3.281990e-07  3.072020e-07   \n",
       "0.364494  4.916540e-07  4.586960e-07  4.286640e-07  4.012390e-07   \n",
       "0.410056  6.222430e-07  5.805310e-07  5.425220e-07  5.078130e-07   \n",
       "0.455617  7.681930e-07  7.166970e-07  6.697720e-07  6.269220e-07   \n",
       "\n",
       "                138000        141000        144000        147000  \n",
       "                138000        141000        144000        147000  \n",
       "0.045562  5.877670e-09  5.518200e-09  5.188020e-09  4.884230e-09  \n",
       "0.091123  2.351050e-08  2.207260e-08  2.075190e-08  1.953670e-08  \n",
       "0.136685  5.289810e-08  4.966290e-08  4.669130e-08  4.395720e-08  \n",
       "0.182247  9.404020e-08  8.828870e-08  8.300600e-08  7.814530e-08  \n",
       "0.227809  1.469360e-07  1.379500e-07  1.296960e-07  1.221010e-07  \n",
       "0.273370  2.115860e-07  1.986460e-07  1.867600e-07  1.758230e-07  \n",
       "0.318932  2.879900e-07  2.703760e-07  2.541980e-07  2.393120e-07  \n",
       "0.364494  3.761460e-07  3.531400e-07  3.320100e-07  3.125670e-07  \n",
       "0.410056  4.760540e-07  4.469380e-07  4.201950e-07  3.955890e-07  \n",
       "0.455617  5.877140e-07  5.517680e-07  5.187530e-07  4.883750e-07  \n",
       "\n",
       "[10 rows x 99 columns]"
      ]
     },
     "execution_count": 48,
     "metadata": {},
     "output_type": "execute_result"
    }
   ],
   "source": [
    "data"
   ]
  },
  {
   "cell_type": "code",
   "execution_count": 49,
   "metadata": {},
   "outputs": [
    {
     "data": {
      "text/plain": [
       "array([-150000., -147000., -144000., -141000., -138000., -135000.,\n",
       "       -132000., -129000., -126000., -123000., -120000., -117000.,\n",
       "       -114000., -111000., -108000., -105000., -102000.,  -99000.,\n",
       "        -96000.,  -93000.,  -90000.,  -87000.,  -84000.,  -81000.,\n",
       "        -78000.,  -75000.,  -72000.,  -69000.,  -66000.,  -63000.,\n",
       "        -60000.,  -57000.,  -54000.,  -51000.,  -48000.,  -45000.,\n",
       "        -42000.,  -39000.,  -36000.,  -33000.,  -30000.,  -27000.,\n",
       "        -24000.,  -21000.,  -18000.,  -15000.,  -12000.,   -9000.,\n",
       "         -6000.,   -3000.,       0.,    3000.,    6000.,    9000.,\n",
       "         12000.,   15000.,   18000.,   21000.,   24000.,   27000.,\n",
       "         30000.,   33000.,   36000.,   39000.,   42000.,   45000.,\n",
       "         48000.,   51000.,   54000.,   57000.,   60000.,   63000.,\n",
       "         66000.,   69000.,   72000.,   75000.,   78000.,   81000.,\n",
       "         84000.,   87000.,   90000.,   93000.,   96000.,   99000.,\n",
       "        102000.,  105000.,  108000.,  111000.,  114000.,  117000.,\n",
       "        120000.,  123000.,  126000.,  129000.,  132000.,  135000.,\n",
       "        138000.,  141000.,  144000.,  147000.])"
      ]
     },
     "execution_count": 49,
     "metadata": {},
     "output_type": "execute_result"
    }
   ],
   "source": [
    "haxis2"
   ]
  },
  {
   "cell_type": "code",
   "execution_count": 56,
   "metadata": {},
   "outputs": [
    {
     "data": {
      "text/plain": [
       "'-102000'"
      ]
     },
     "execution_count": 56,
     "metadata": {},
     "output_type": "execute_result"
    }
   ],
   "source": [
    "i"
   ]
  },
  {
   "cell_type": "code",
   "execution_count": 57,
   "metadata": {},
   "outputs": [
    {
     "data": {
      "text/html": [
       "<div>\n",
       "<style scoped>\n",
       "    .dataframe tbody tr th:only-of-type {\n",
       "        vertical-align: middle;\n",
       "    }\n",
       "\n",
       "    .dataframe tbody tr th {\n",
       "        vertical-align: top;\n",
       "    }\n",
       "\n",
       "    .dataframe thead th {\n",
       "        text-align: right;\n",
       "    }\n",
       "</style>\n",
       "<table border=\"1\" class=\"dataframe\">\n",
       "  <thead>\n",
       "    <tr style=\"text-align: right;\">\n",
       "      <th></th>\n",
       "      <th>-102000</th>\n",
       "    </tr>\n",
       "  </thead>\n",
       "  <tbody>\n",
       "    <tr>\n",
       "      <th>0.045562</th>\n",
       "      <td>-1.400260e-08</td>\n",
       "    </tr>\n",
       "    <tr>\n",
       "      <th>0.091123</th>\n",
       "      <td>-5.601000e-08</td>\n",
       "    </tr>\n",
       "    <tr>\n",
       "      <th>0.136685</th>\n",
       "      <td>-1.260220e-07</td>\n",
       "    </tr>\n",
       "    <tr>\n",
       "      <th>0.182247</th>\n",
       "      <td>-2.240370e-07</td>\n",
       "    </tr>\n",
       "    <tr>\n",
       "      <th>0.227809</th>\n",
       "      <td>-3.500550e-07</td>\n",
       "    </tr>\n",
       "    <tr>\n",
       "      <th>0.273370</th>\n",
       "      <td>-5.040740e-07</td>\n",
       "    </tr>\n",
       "    <tr>\n",
       "      <th>0.318932</th>\n",
       "      <td>-6.860940e-07</td>\n",
       "    </tr>\n",
       "    <tr>\n",
       "      <th>0.364494</th>\n",
       "      <td>-8.961130e-07</td>\n",
       "    </tr>\n",
       "    <tr>\n",
       "      <th>0.410056</th>\n",
       "      <td>-1.134130e-06</td>\n",
       "    </tr>\n",
       "    <tr>\n",
       "      <th>0.455617</th>\n",
       "      <td>-1.400140e-06</td>\n",
       "    </tr>\n",
       "  </tbody>\n",
       "</table>\n",
       "</div>"
      ],
      "text/plain": [
       "               -102000\n",
       "0.045562 -1.400260e-08\n",
       "0.091123 -5.601000e-08\n",
       "0.136685 -1.260220e-07\n",
       "0.182247 -2.240370e-07\n",
       "0.227809 -3.500550e-07\n",
       "0.273370 -5.040740e-07\n",
       "0.318932 -6.860940e-07\n",
       "0.364494 -8.961130e-07\n",
       "0.410056 -1.134130e-06\n",
       "0.455617 -1.400140e-06"
      ]
     },
     "execution_count": 57,
     "metadata": {},
     "output_type": "execute_result"
    }
   ],
   "source": [
    "data[i]"
   ]
  },
  {
   "cell_type": "code",
   "execution_count": 53,
   "metadata": {
    "scrolled": false
   },
   "outputs": [
    {
     "ename": "ValueError",
     "evalue": "x and y must have same first dimension, but have shapes (100,) and (1,)",
     "output_type": "error",
     "traceback": [
      "\u001b[0;31m---------------------------------------------------------------------------\u001b[0m",
      "\u001b[0;31mValueError\u001b[0m                                Traceback (most recent call last)",
      "\u001b[0;32m<ipython-input-53-afb36122c722>\u001b[0m in \u001b[0;36m<module>\u001b[0;34m\u001b[0m\n\u001b[1;32m      1\u001b[0m \u001b[0;32mfor\u001b[0m \u001b[0mi\u001b[0m \u001b[0;32min\u001b[0m \u001b[0mdata\u001b[0m\u001b[0;34m.\u001b[0m\u001b[0mcolumns\u001b[0m\u001b[0;34m.\u001b[0m\u001b[0mlevels\u001b[0m\u001b[0;34m[\u001b[0m\u001b[0;36m0\u001b[0m\u001b[0;34m]\u001b[0m\u001b[0;34m[\u001b[0m\u001b[0;34m:\u001b[0m\u001b[0;34m-\u001b[0m\u001b[0;36m1\u001b[0m\u001b[0;34m]\u001b[0m\u001b[0;34m:\u001b[0m\u001b[0;34m\u001b[0m\u001b[0;34m\u001b[0m\u001b[0m\n\u001b[1;32m      2\u001b[0m     \u001b[0mfig1\u001b[0m\u001b[0;34m,\u001b[0m\u001b[0maxes1\u001b[0m \u001b[0;34m=\u001b[0m \u001b[0mplt\u001b[0m\u001b[0;34m.\u001b[0m\u001b[0msubplots\u001b[0m\u001b[0;34m(\u001b[0m\u001b[0;36m1\u001b[0m\u001b[0;34m,\u001b[0m\u001b[0;36m1\u001b[0m\u001b[0;34m)\u001b[0m\u001b[0;34m\u001b[0m\u001b[0;34m\u001b[0m\u001b[0m\n\u001b[0;32m----> 3\u001b[0;31m     \u001b[0maxes1\u001b[0m\u001b[0;34m.\u001b[0m\u001b[0mplot\u001b[0m\u001b[0;34m(\u001b[0m\u001b[0mhaxis2\u001b[0m\u001b[0;34m,\u001b[0m\u001b[0mdata\u001b[0m\u001b[0;34m[\u001b[0m\u001b[0mi\u001b[0m\u001b[0;34m]\u001b[0m\u001b[0;34m.\u001b[0m\u001b[0miloc\u001b[0m\u001b[0;34m[\u001b[0m\u001b[0;36m0\u001b[0m\u001b[0;34m]\u001b[0m\u001b[0;34m,\u001b[0m\u001b[0;34m'x-'\u001b[0m\u001b[0;34m)\u001b[0m\u001b[0;34m\u001b[0m\u001b[0;34m\u001b[0m\u001b[0m\n\u001b[0m\u001b[1;32m      4\u001b[0m     \u001b[0maxes1\u001b[0m\u001b[0;34m.\u001b[0m\u001b[0maxhline\u001b[0m\u001b[0;34m(\u001b[0m\u001b[0my\u001b[0m \u001b[0;34m=\u001b[0m \u001b[0;36m0\u001b[0m\u001b[0;34m,\u001b[0m\u001b[0mlinewidth\u001b[0m \u001b[0;34m=\u001b[0m \u001b[0;36m2\u001b[0m\u001b[0;34m,\u001b[0m\u001b[0mcolor\u001b[0m\u001b[0;34m=\u001b[0m\u001b[0;34m'g'\u001b[0m\u001b[0;34m)\u001b[0m\u001b[0;34m\u001b[0m\u001b[0;34m\u001b[0m\u001b[0m\n\u001b[1;32m      5\u001b[0m     \u001b[0maxes1\u001b[0m\u001b[0;34m.\u001b[0m\u001b[0mset_xlabel\u001b[0m\u001b[0;34m(\u001b[0m\u001b[0;34m\"df (Hz)\"\u001b[0m\u001b[0;34m)\u001b[0m\u001b[0;34m\u001b[0m\u001b[0;34m\u001b[0m\u001b[0m\n",
      "\u001b[0;32m~/anaconda3/lib/python3.8/site-packages/matplotlib/axes/_axes.py\u001b[0m in \u001b[0;36mplot\u001b[0;34m(self, scalex, scaley, data, *args, **kwargs)\u001b[0m\n\u001b[1;32m   1741\u001b[0m         \"\"\"\n\u001b[1;32m   1742\u001b[0m         \u001b[0mkwargs\u001b[0m \u001b[0;34m=\u001b[0m \u001b[0mcbook\u001b[0m\u001b[0;34m.\u001b[0m\u001b[0mnormalize_kwargs\u001b[0m\u001b[0;34m(\u001b[0m\u001b[0mkwargs\u001b[0m\u001b[0;34m,\u001b[0m \u001b[0mmlines\u001b[0m\u001b[0;34m.\u001b[0m\u001b[0mLine2D\u001b[0m\u001b[0;34m)\u001b[0m\u001b[0;34m\u001b[0m\u001b[0;34m\u001b[0m\u001b[0m\n\u001b[0;32m-> 1743\u001b[0;31m         \u001b[0mlines\u001b[0m \u001b[0;34m=\u001b[0m \u001b[0;34m[\u001b[0m\u001b[0;34m*\u001b[0m\u001b[0mself\u001b[0m\u001b[0;34m.\u001b[0m\u001b[0m_get_lines\u001b[0m\u001b[0;34m(\u001b[0m\u001b[0;34m*\u001b[0m\u001b[0margs\u001b[0m\u001b[0;34m,\u001b[0m \u001b[0mdata\u001b[0m\u001b[0;34m=\u001b[0m\u001b[0mdata\u001b[0m\u001b[0;34m,\u001b[0m \u001b[0;34m**\u001b[0m\u001b[0mkwargs\u001b[0m\u001b[0;34m)\u001b[0m\u001b[0;34m]\u001b[0m\u001b[0;34m\u001b[0m\u001b[0;34m\u001b[0m\u001b[0m\n\u001b[0m\u001b[1;32m   1744\u001b[0m         \u001b[0;32mfor\u001b[0m \u001b[0mline\u001b[0m \u001b[0;32min\u001b[0m \u001b[0mlines\u001b[0m\u001b[0;34m:\u001b[0m\u001b[0;34m\u001b[0m\u001b[0;34m\u001b[0m\u001b[0m\n\u001b[1;32m   1745\u001b[0m             \u001b[0mself\u001b[0m\u001b[0;34m.\u001b[0m\u001b[0madd_line\u001b[0m\u001b[0;34m(\u001b[0m\u001b[0mline\u001b[0m\u001b[0;34m)\u001b[0m\u001b[0;34m\u001b[0m\u001b[0;34m\u001b[0m\u001b[0m\n",
      "\u001b[0;32m~/anaconda3/lib/python3.8/site-packages/matplotlib/axes/_base.py\u001b[0m in \u001b[0;36m__call__\u001b[0;34m(self, data, *args, **kwargs)\u001b[0m\n\u001b[1;32m    271\u001b[0m                 \u001b[0mthis\u001b[0m \u001b[0;34m+=\u001b[0m \u001b[0margs\u001b[0m\u001b[0;34m[\u001b[0m\u001b[0;36m0\u001b[0m\u001b[0;34m]\u001b[0m\u001b[0;34m,\u001b[0m\u001b[0;34m\u001b[0m\u001b[0;34m\u001b[0m\u001b[0m\n\u001b[1;32m    272\u001b[0m                 \u001b[0margs\u001b[0m \u001b[0;34m=\u001b[0m \u001b[0margs\u001b[0m\u001b[0;34m[\u001b[0m\u001b[0;36m1\u001b[0m\u001b[0;34m:\u001b[0m\u001b[0;34m]\u001b[0m\u001b[0;34m\u001b[0m\u001b[0;34m\u001b[0m\u001b[0m\n\u001b[0;32m--> 273\u001b[0;31m             \u001b[0;32myield\u001b[0m \u001b[0;32mfrom\u001b[0m \u001b[0mself\u001b[0m\u001b[0;34m.\u001b[0m\u001b[0m_plot_args\u001b[0m\u001b[0;34m(\u001b[0m\u001b[0mthis\u001b[0m\u001b[0;34m,\u001b[0m \u001b[0mkwargs\u001b[0m\u001b[0;34m)\u001b[0m\u001b[0;34m\u001b[0m\u001b[0;34m\u001b[0m\u001b[0m\n\u001b[0m\u001b[1;32m    274\u001b[0m \u001b[0;34m\u001b[0m\u001b[0m\n\u001b[1;32m    275\u001b[0m     \u001b[0;32mdef\u001b[0m \u001b[0mget_next_color\u001b[0m\u001b[0;34m(\u001b[0m\u001b[0mself\u001b[0m\u001b[0;34m)\u001b[0m\u001b[0;34m:\u001b[0m\u001b[0;34m\u001b[0m\u001b[0;34m\u001b[0m\u001b[0m\n",
      "\u001b[0;32m~/anaconda3/lib/python3.8/site-packages/matplotlib/axes/_base.py\u001b[0m in \u001b[0;36m_plot_args\u001b[0;34m(self, tup, kwargs)\u001b[0m\n\u001b[1;32m    397\u001b[0m \u001b[0;34m\u001b[0m\u001b[0m\n\u001b[1;32m    398\u001b[0m         \u001b[0;32mif\u001b[0m \u001b[0mx\u001b[0m\u001b[0;34m.\u001b[0m\u001b[0mshape\u001b[0m\u001b[0;34m[\u001b[0m\u001b[0;36m0\u001b[0m\u001b[0;34m]\u001b[0m \u001b[0;34m!=\u001b[0m \u001b[0my\u001b[0m\u001b[0;34m.\u001b[0m\u001b[0mshape\u001b[0m\u001b[0;34m[\u001b[0m\u001b[0;36m0\u001b[0m\u001b[0;34m]\u001b[0m\u001b[0;34m:\u001b[0m\u001b[0;34m\u001b[0m\u001b[0;34m\u001b[0m\u001b[0m\n\u001b[0;32m--> 399\u001b[0;31m             raise ValueError(f\"x and y must have same first dimension, but \"\n\u001b[0m\u001b[1;32m    400\u001b[0m                              f\"have shapes {x.shape} and {y.shape}\")\n\u001b[1;32m    401\u001b[0m         \u001b[0;32mif\u001b[0m \u001b[0mx\u001b[0m\u001b[0;34m.\u001b[0m\u001b[0mndim\u001b[0m \u001b[0;34m>\u001b[0m \u001b[0;36m2\u001b[0m \u001b[0;32mor\u001b[0m \u001b[0my\u001b[0m\u001b[0;34m.\u001b[0m\u001b[0mndim\u001b[0m \u001b[0;34m>\u001b[0m \u001b[0;36m2\u001b[0m\u001b[0;34m:\u001b[0m\u001b[0;34m\u001b[0m\u001b[0;34m\u001b[0m\u001b[0m\n",
      "\u001b[0;31mValueError\u001b[0m: x and y must have same first dimension, but have shapes (100,) and (1,)"
     ]
    },
    {
     "data": {
      "image/png": "[encoded data removed]",
      "text/plain": [
       "<Figure size 432x288 with 1 Axes>"
      ]
     },
     "metadata": {
      "needs_background": "light"
     },
     "output_type": "display_data"
    }
   ],
   "source": [
    "for i in data.columns.levels[0][:-1]:\n",
    "    fig1,axes1 = plt.subplots(1,1)\n",
    "    axes1.plot(haxis2,data[i].iloc[0],'x-')\n",
    "    axes1.axhline(y = 0,linewidth = 2,color='g')\n",
    "    axes1.set_xlabel(\"df (Hz)\")\n",
    "    axes1.legend(['df = '+i],fontsize=20)\n",
    "    fig1.set_figheight(15)\n",
    "    fig1.set_figwidth(30)\n",
    "\n",
    "    #fn_stab = os.path.join(cwd,'stability_map_mu_0.jpg')\n",
    "    #plt.savefig(fn_stab,bbox_inches='tight')\n",
    "plt.show()"
   ]
  },
  {
   "cell_type": "code",
   "execution_count": 11,
   "metadata": {
    "scrolled": false
   },
   "outputs": [
    {
     "ename": "IndexError",
     "evalue": "single positional indexer is out-of-bounds",
     "output_type": "error",
     "traceback": [
      "\u001b[0;31m---------------------------------------------------------------------------\u001b[0m",
      "\u001b[0;31mIndexError\u001b[0m                                Traceback (most recent call last)",
      "\u001b[0;32m<ipython-input-11-894028e31896>\u001b[0m in \u001b[0;36m<module>\u001b[0;34m\u001b[0m\n\u001b[1;32m      1\u001b[0m \u001b[0;32mfor\u001b[0m \u001b[0mi\u001b[0m \u001b[0;32min\u001b[0m \u001b[0mdataRe\u001b[0m\u001b[0;34m.\u001b[0m\u001b[0mcolumns\u001b[0m\u001b[0;34m.\u001b[0m\u001b[0mlevels\u001b[0m\u001b[0;34m[\u001b[0m\u001b[0;36m0\u001b[0m\u001b[0;34m]\u001b[0m\u001b[0;34m[\u001b[0m\u001b[0;34m:\u001b[0m\u001b[0;34m-\u001b[0m\u001b[0;36m1\u001b[0m\u001b[0;34m]\u001b[0m\u001b[0;34m:\u001b[0m\u001b[0;34m\u001b[0m\u001b[0;34m\u001b[0m\u001b[0m\n\u001b[1;32m      2\u001b[0m     \u001b[0mfig1\u001b[0m\u001b[0;34m,\u001b[0m\u001b[0maxes1\u001b[0m \u001b[0;34m=\u001b[0m \u001b[0mplt\u001b[0m\u001b[0;34m.\u001b[0m\u001b[0msubplots\u001b[0m\u001b[0;34m(\u001b[0m\u001b[0;36m1\u001b[0m\u001b[0;34m,\u001b[0m\u001b[0;36m1\u001b[0m\u001b[0;34m)\u001b[0m\u001b[0;34m\u001b[0m\u001b[0;34m\u001b[0m\u001b[0m\n\u001b[0;32m----> 3\u001b[0;31m     \u001b[0maxes1\u001b[0m\u001b[0;34m.\u001b[0m\u001b[0mplot\u001b[0m\u001b[0;34m(\u001b[0m\u001b[0mhaxis2\u001b[0m\u001b[0;34m,\u001b[0m\u001b[0mdataRe\u001b[0m\u001b[0;34m[\u001b[0m\u001b[0mi\u001b[0m\u001b[0;34m]\u001b[0m\u001b[0;34m.\u001b[0m\u001b[0miloc\u001b[0m\u001b[0;34m[\u001b[0m\u001b[0;36m0\u001b[0m\u001b[0;34m]\u001b[0m\u001b[0;34m,\u001b[0m\u001b[0;34m'x-'\u001b[0m\u001b[0;34m)\u001b[0m\u001b[0;34m\u001b[0m\u001b[0;34m\u001b[0m\u001b[0m\n\u001b[0m\u001b[1;32m      4\u001b[0m     \u001b[0maxes1\u001b[0m\u001b[0;34m.\u001b[0m\u001b[0maxhline\u001b[0m\u001b[0;34m(\u001b[0m\u001b[0my\u001b[0m \u001b[0;34m=\u001b[0m \u001b[0;36m0\u001b[0m\u001b[0;34m,\u001b[0m\u001b[0mlinewidth\u001b[0m \u001b[0;34m=\u001b[0m \u001b[0;36m2\u001b[0m\u001b[0;34m,\u001b[0m\u001b[0mcolor\u001b[0m\u001b[0;34m=\u001b[0m\u001b[0;34m'g'\u001b[0m\u001b[0;34m)\u001b[0m\u001b[0;34m\u001b[0m\u001b[0;34m\u001b[0m\u001b[0m\n\u001b[1;32m      5\u001b[0m     \u001b[0maxes1\u001b[0m\u001b[0;34m.\u001b[0m\u001b[0mset_xlabel\u001b[0m\u001b[0;34m(\u001b[0m\u001b[0;34m\"df2 (Hz)\"\u001b[0m\u001b[0;34m)\u001b[0m\u001b[0;34m\u001b[0m\u001b[0;34m\u001b[0m\u001b[0m\n",
      "\u001b[0;32m~/anaconda3/lib/python3.8/site-packages/pandas/core/indexing.py\u001b[0m in \u001b[0;36m__getitem__\u001b[0;34m(self, key)\u001b[0m\n\u001b[1;32m    877\u001b[0m \u001b[0;34m\u001b[0m\u001b[0m\n\u001b[1;32m    878\u001b[0m             \u001b[0mmaybe_callable\u001b[0m \u001b[0;34m=\u001b[0m \u001b[0mcom\u001b[0m\u001b[0;34m.\u001b[0m\u001b[0mapply_if_callable\u001b[0m\u001b[0;34m(\u001b[0m\u001b[0mkey\u001b[0m\u001b[0;34m,\u001b[0m \u001b[0mself\u001b[0m\u001b[0;34m.\u001b[0m\u001b[0mobj\u001b[0m\u001b[0;34m)\u001b[0m\u001b[0;34m\u001b[0m\u001b[0;34m\u001b[0m\u001b[0m\n\u001b[0;32m--> 879\u001b[0;31m             \u001b[0;32mreturn\u001b[0m \u001b[0mself\u001b[0m\u001b[0;34m.\u001b[0m\u001b[0m_getitem_axis\u001b[0m\u001b[0;34m(\u001b[0m\u001b[0mmaybe_callable\u001b[0m\u001b[0;34m,\u001b[0m \u001b[0maxis\u001b[0m\u001b[0;34m=\u001b[0m\u001b[0maxis\u001b[0m\u001b[0;34m)\u001b[0m\u001b[0;34m\u001b[0m\u001b[0;34m\u001b[0m\u001b[0m\n\u001b[0m\u001b[1;32m    880\u001b[0m \u001b[0;34m\u001b[0m\u001b[0m\n\u001b[1;32m    881\u001b[0m     \u001b[0;32mdef\u001b[0m \u001b[0m_is_scalar_access\u001b[0m\u001b[0;34m(\u001b[0m\u001b[0mself\u001b[0m\u001b[0;34m,\u001b[0m \u001b[0mkey\u001b[0m\u001b[0;34m:\u001b[0m \u001b[0mTuple\u001b[0m\u001b[0;34m)\u001b[0m\u001b[0;34m:\u001b[0m\u001b[0;34m\u001b[0m\u001b[0;34m\u001b[0m\u001b[0m\n",
      "\u001b[0;32m~/anaconda3/lib/python3.8/site-packages/pandas/core/indexing.py\u001b[0m in \u001b[0;36m_getitem_axis\u001b[0;34m(self, key, axis)\u001b[0m\n\u001b[1;32m   1494\u001b[0m \u001b[0;34m\u001b[0m\u001b[0m\n\u001b[1;32m   1495\u001b[0m             \u001b[0;31m# validate the location\u001b[0m\u001b[0;34m\u001b[0m\u001b[0;34m\u001b[0m\u001b[0;34m\u001b[0m\u001b[0m\n\u001b[0;32m-> 1496\u001b[0;31m             \u001b[0mself\u001b[0m\u001b[0;34m.\u001b[0m\u001b[0m_validate_integer\u001b[0m\u001b[0;34m(\u001b[0m\u001b[0mkey\u001b[0m\u001b[0;34m,\u001b[0m \u001b[0maxis\u001b[0m\u001b[0;34m)\u001b[0m\u001b[0;34m\u001b[0m\u001b[0;34m\u001b[0m\u001b[0m\n\u001b[0m\u001b[1;32m   1497\u001b[0m \u001b[0;34m\u001b[0m\u001b[0m\n\u001b[1;32m   1498\u001b[0m             \u001b[0;32mreturn\u001b[0m \u001b[0mself\u001b[0m\u001b[0;34m.\u001b[0m\u001b[0mobj\u001b[0m\u001b[0;34m.\u001b[0m\u001b[0m_ixs\u001b[0m\u001b[0;34m(\u001b[0m\u001b[0mkey\u001b[0m\u001b[0;34m,\u001b[0m \u001b[0maxis\u001b[0m\u001b[0;34m=\u001b[0m\u001b[0maxis\u001b[0m\u001b[0;34m)\u001b[0m\u001b[0;34m\u001b[0m\u001b[0;34m\u001b[0m\u001b[0m\n",
      "\u001b[0;32m~/anaconda3/lib/python3.8/site-packages/pandas/core/indexing.py\u001b[0m in \u001b[0;36m_validate_integer\u001b[0;34m(self, key, axis)\u001b[0m\n\u001b[1;32m   1435\u001b[0m         \u001b[0mlen_axis\u001b[0m \u001b[0;34m=\u001b[0m \u001b[0mlen\u001b[0m\u001b[0;34m(\u001b[0m\u001b[0mself\u001b[0m\u001b[0;34m.\u001b[0m\u001b[0mobj\u001b[0m\u001b[0;34m.\u001b[0m\u001b[0m_get_axis\u001b[0m\u001b[0;34m(\u001b[0m\u001b[0maxis\u001b[0m\u001b[0;34m)\u001b[0m\u001b[0;34m)\u001b[0m\u001b[0;34m\u001b[0m\u001b[0;34m\u001b[0m\u001b[0m\n\u001b[1;32m   1436\u001b[0m         \u001b[0;32mif\u001b[0m \u001b[0mkey\u001b[0m \u001b[0;34m>=\u001b[0m \u001b[0mlen_axis\u001b[0m \u001b[0;32mor\u001b[0m \u001b[0mkey\u001b[0m \u001b[0;34m<\u001b[0m \u001b[0;34m-\u001b[0m\u001b[0mlen_axis\u001b[0m\u001b[0;34m:\u001b[0m\u001b[0;34m\u001b[0m\u001b[0;34m\u001b[0m\u001b[0m\n\u001b[0;32m-> 1437\u001b[0;31m             \u001b[0;32mraise\u001b[0m \u001b[0mIndexError\u001b[0m\u001b[0;34m(\u001b[0m\u001b[0;34m\"single positional indexer is out-of-bounds\"\u001b[0m\u001b[0;34m)\u001b[0m\u001b[0;34m\u001b[0m\u001b[0;34m\u001b[0m\u001b[0m\n\u001b[0m\u001b[1;32m   1438\u001b[0m \u001b[0;34m\u001b[0m\u001b[0m\n\u001b[1;32m   1439\u001b[0m     \u001b[0;31m# -------------------------------------------------------------------\u001b[0m\u001b[0;34m\u001b[0m\u001b[0;34m\u001b[0m\u001b[0;34m\u001b[0m\u001b[0m\n",
      "\u001b[0;31mIndexError\u001b[0m: single positional indexer is out-of-bounds"
     ]
    },
    {
     "data": {
      "image/png": "[encoded data removed]",
      "text/plain": [
       "<Figure size 432x288 with 1 Axes>"
      ]
     },
     "metadata": {
      "needs_background": "light"
     },
     "output_type": "display_data"
    }
   ],
   "source": [
    "for i in dataRe.columns.levels[0][:-1]:\n",
    "    fig1,axes1 = plt.subplots(1,1)\n",
    "    axes1.plot(haxis2,dataRe[i].iloc[0],'x-')\n",
    "    axes1.axhline(y = 0,linewidth = 2,color='g')\n",
    "    axes1.set_xlabel(\"df2 (Hz)\")\n",
    "    axes1.legend(['df1 = '+i],fontsize=20)\n",
    "    fig1.set_figheight(15)\n",
    "    fig1.set_figwidth(30)\n",
    "\n",
    "    #fn_stab = os.path.join(cwd,'stability_map_mu_0.jpg')\n",
    "    #plt.savefig(fn_stab,bbox_inches='tight')\n",
    "plt.show()"
   ]
  },
  {
   "cell_type": "code",
   "execution_count": 55,
   "metadata": {},
   "outputs": [
    {
     "ename": "TypeError",
     "evalue": "Length of x (100) must match number of columns in z (99)",
     "output_type": "error",
     "traceback": [
      "\u001b[0;31m---------------------------------------------------------------------------\u001b[0m",
      "\u001b[0;31mTypeError\u001b[0m                                 Traceback (most recent call last)",
      "\u001b[0;32m<ipython-input-55-7f532fcde047>\u001b[0m in \u001b[0;36m<module>\u001b[0;34m\u001b[0m\n\u001b[1;32m      1\u001b[0m \u001b[0mdamp\u001b[0m \u001b[0;34m=\u001b[0m \u001b[0;36m0\u001b[0m\u001b[0;34m\u001b[0m\u001b[0;34m\u001b[0m\u001b[0m\n\u001b[1;32m      2\u001b[0m \u001b[0mfig1\u001b[0m\u001b[0;34m,\u001b[0m\u001b[0maxes1\u001b[0m \u001b[0;34m=\u001b[0m \u001b[0mplt\u001b[0m\u001b[0;34m.\u001b[0m\u001b[0msubplots\u001b[0m\u001b[0;34m(\u001b[0m\u001b[0;36m1\u001b[0m\u001b[0;34m,\u001b[0m\u001b[0;36m1\u001b[0m\u001b[0;34m)\u001b[0m\u001b[0;34m\u001b[0m\u001b[0;34m\u001b[0m\u001b[0m\n\u001b[0;32m----> 3\u001b[0;31m \u001b[0maxes1\u001b[0m\u001b[0;34m.\u001b[0m\u001b[0mcontourf\u001b[0m\u001b[0;34m(\u001b[0m\u001b[0mhaxis\u001b[0m\u001b[0;34m,\u001b[0m\u001b[0mdata\u001b[0m\u001b[0;34m.\u001b[0m\u001b[0mindex\u001b[0m\u001b[0;34m.\u001b[0m\u001b[0mvalues\u001b[0m\u001b[0;34m,\u001b[0m\u001b[0mdata\u001b[0m\u001b[0;34m.\u001b[0m\u001b[0mvalues\u001b[0m\u001b[0;34m-\u001b[0m\u001b[0mdamp\u001b[0m\u001b[0;34m,\u001b[0m\u001b[0mlevels\u001b[0m\u001b[0;34m=\u001b[0m\u001b[0;34m[\u001b[0m\u001b[0;34m-\u001b[0m\u001b[0;36m1e10\u001b[0m\u001b[0;34m,\u001b[0m\u001b[0;36m0\u001b[0m\u001b[0;34m,\u001b[0m\u001b[0;36m1e10\u001b[0m\u001b[0;34m]\u001b[0m\u001b[0;34m,\u001b[0m\u001b[0mcolors\u001b[0m\u001b[0;34m=\u001b[0m\u001b[0;34m[\u001b[0m\u001b[0;34m'g'\u001b[0m\u001b[0;34m,\u001b[0m\u001b[0;34m'r'\u001b[0m\u001b[0;34m]\u001b[0m\u001b[0;34m,\u001b[0m\u001b[0mantialiased\u001b[0m\u001b[0;34m=\u001b[0m\u001b[0;32mFalse\u001b[0m\u001b[0;34m)\u001b[0m\u001b[0;34m\u001b[0m\u001b[0;34m\u001b[0m\u001b[0m\n\u001b[0m\u001b[1;32m      4\u001b[0m \u001b[0;34m\u001b[0m\u001b[0m\n\u001b[1;32m      5\u001b[0m \u001b[0;31m#axes1.axvline(x = -2052.158283362134,linewidth = 2,color='b')\u001b[0m\u001b[0;34m\u001b[0m\u001b[0;34m\u001b[0m\u001b[0;34m\u001b[0m\u001b[0m\n",
      "\u001b[0;32m~/anaconda3/lib/python3.8/site-packages/matplotlib/__init__.py\u001b[0m in \u001b[0;36minner\u001b[0;34m(ax, data, *args, **kwargs)\u001b[0m\n\u001b[1;32m   1436\u001b[0m     \u001b[0;32mdef\u001b[0m \u001b[0minner\u001b[0m\u001b[0;34m(\u001b[0m\u001b[0max\u001b[0m\u001b[0;34m,\u001b[0m \u001b[0;34m*\u001b[0m\u001b[0margs\u001b[0m\u001b[0;34m,\u001b[0m \u001b[0mdata\u001b[0m\u001b[0;34m=\u001b[0m\u001b[0;32mNone\u001b[0m\u001b[0;34m,\u001b[0m \u001b[0;34m**\u001b[0m\u001b[0mkwargs\u001b[0m\u001b[0;34m)\u001b[0m\u001b[0;34m:\u001b[0m\u001b[0;34m\u001b[0m\u001b[0;34m\u001b[0m\u001b[0m\n\u001b[1;32m   1437\u001b[0m         \u001b[0;32mif\u001b[0m \u001b[0mdata\u001b[0m \u001b[0;32mis\u001b[0m \u001b[0;32mNone\u001b[0m\u001b[0;34m:\u001b[0m\u001b[0;34m\u001b[0m\u001b[0;34m\u001b[0m\u001b[0m\n\u001b[0;32m-> 1438\u001b[0;31m             \u001b[0;32mreturn\u001b[0m \u001b[0mfunc\u001b[0m\u001b[0;34m(\u001b[0m\u001b[0max\u001b[0m\u001b[0;34m,\u001b[0m \u001b[0;34m*\u001b[0m\u001b[0mmap\u001b[0m\u001b[0;34m(\u001b[0m\u001b[0msanitize_sequence\u001b[0m\u001b[0;34m,\u001b[0m \u001b[0margs\u001b[0m\u001b[0;34m)\u001b[0m\u001b[0;34m,\u001b[0m \u001b[0;34m**\u001b[0m\u001b[0mkwargs\u001b[0m\u001b[0;34m)\u001b[0m\u001b[0;34m\u001b[0m\u001b[0;34m\u001b[0m\u001b[0m\n\u001b[0m\u001b[1;32m   1439\u001b[0m \u001b[0;34m\u001b[0m\u001b[0m\n\u001b[1;32m   1440\u001b[0m         \u001b[0mbound\u001b[0m \u001b[0;34m=\u001b[0m \u001b[0mnew_sig\u001b[0m\u001b[0;34m.\u001b[0m\u001b[0mbind\u001b[0m\u001b[0;34m(\u001b[0m\u001b[0max\u001b[0m\u001b[0;34m,\u001b[0m \u001b[0;34m*\u001b[0m\u001b[0margs\u001b[0m\u001b[0;34m,\u001b[0m \u001b[0;34m**\u001b[0m\u001b[0mkwargs\u001b[0m\u001b[0;34m)\u001b[0m\u001b[0;34m\u001b[0m\u001b[0;34m\u001b[0m\u001b[0m\n",
      "\u001b[0;32m~/anaconda3/lib/python3.8/site-packages/matplotlib/axes/_axes.py\u001b[0m in \u001b[0;36mcontourf\u001b[0;34m(self, *args, **kwargs)\u001b[0m\n\u001b[1;32m   6338\u001b[0m     \u001b[0;32mdef\u001b[0m \u001b[0mcontourf\u001b[0m\u001b[0;34m(\u001b[0m\u001b[0mself\u001b[0m\u001b[0;34m,\u001b[0m \u001b[0;34m*\u001b[0m\u001b[0margs\u001b[0m\u001b[0;34m,\u001b[0m \u001b[0;34m**\u001b[0m\u001b[0mkwargs\u001b[0m\u001b[0;34m)\u001b[0m\u001b[0;34m:\u001b[0m\u001b[0;34m\u001b[0m\u001b[0;34m\u001b[0m\u001b[0m\n\u001b[1;32m   6339\u001b[0m         \u001b[0mkwargs\u001b[0m\u001b[0;34m[\u001b[0m\u001b[0;34m'filled'\u001b[0m\u001b[0;34m]\u001b[0m \u001b[0;34m=\u001b[0m \u001b[0;32mTrue\u001b[0m\u001b[0;34m\u001b[0m\u001b[0;34m\u001b[0m\u001b[0m\n\u001b[0;32m-> 6340\u001b[0;31m         \u001b[0mcontours\u001b[0m \u001b[0;34m=\u001b[0m \u001b[0mmcontour\u001b[0m\u001b[0;34m.\u001b[0m\u001b[0mQuadContourSet\u001b[0m\u001b[0;34m(\u001b[0m\u001b[0mself\u001b[0m\u001b[0;34m,\u001b[0m \u001b[0;34m*\u001b[0m\u001b[0margs\u001b[0m\u001b[0;34m,\u001b[0m \u001b[0;34m**\u001b[0m\u001b[0mkwargs\u001b[0m\u001b[0;34m)\u001b[0m\u001b[0;34m\u001b[0m\u001b[0;34m\u001b[0m\u001b[0m\n\u001b[0m\u001b[1;32m   6341\u001b[0m         \u001b[0mself\u001b[0m\u001b[0;34m.\u001b[0m\u001b[0m_request_autoscale_view\u001b[0m\u001b[0;34m(\u001b[0m\u001b[0;34m)\u001b[0m\u001b[0;34m\u001b[0m\u001b[0;34m\u001b[0m\u001b[0m\n\u001b[1;32m   6342\u001b[0m         \u001b[0;32mreturn\u001b[0m \u001b[0mcontours\u001b[0m\u001b[0;34m\u001b[0m\u001b[0;34m\u001b[0m\u001b[0m\n",
      "\u001b[0;32m~/anaconda3/lib/python3.8/site-packages/matplotlib/contour.py\u001b[0m in \u001b[0;36m__init__\u001b[0;34m(self, ax, levels, filled, linewidths, linestyles, hatches, alpha, origin, extent, cmap, colors, norm, vmin, vmax, extend, antialiased, nchunk, locator, transform, *args, **kwargs)\u001b[0m\n\u001b[1;32m    814\u001b[0m         \u001b[0mself\u001b[0m\u001b[0;34m.\u001b[0m\u001b[0m_transform\u001b[0m \u001b[0;34m=\u001b[0m \u001b[0mtransform\u001b[0m\u001b[0;34m\u001b[0m\u001b[0;34m\u001b[0m\u001b[0m\n\u001b[1;32m    815\u001b[0m \u001b[0;34m\u001b[0m\u001b[0m\n\u001b[0;32m--> 816\u001b[0;31m         \u001b[0mkwargs\u001b[0m \u001b[0;34m=\u001b[0m \u001b[0mself\u001b[0m\u001b[0;34m.\u001b[0m\u001b[0m_process_args\u001b[0m\u001b[0;34m(\u001b[0m\u001b[0;34m*\u001b[0m\u001b[0margs\u001b[0m\u001b[0;34m,\u001b[0m \u001b[0;34m**\u001b[0m\u001b[0mkwargs\u001b[0m\u001b[0;34m)\u001b[0m\u001b[0;34m\u001b[0m\u001b[0;34m\u001b[0m\u001b[0m\n\u001b[0m\u001b[1;32m    817\u001b[0m         \u001b[0mself\u001b[0m\u001b[0;34m.\u001b[0m\u001b[0m_process_levels\u001b[0m\u001b[0;34m(\u001b[0m\u001b[0;34m)\u001b[0m\u001b[0;34m\u001b[0m\u001b[0;34m\u001b[0m\u001b[0m\n\u001b[1;32m    818\u001b[0m \u001b[0;34m\u001b[0m\u001b[0m\n",
      "\u001b[0;32m~/anaconda3/lib/python3.8/site-packages/matplotlib/contour.py\u001b[0m in \u001b[0;36m_process_args\u001b[0;34m(self, corner_mask, *args, **kwargs)\u001b[0m\n\u001b[1;32m   1428\u001b[0m             \u001b[0mself\u001b[0m\u001b[0;34m.\u001b[0m\u001b[0m_corner_mask\u001b[0m \u001b[0;34m=\u001b[0m \u001b[0mcorner_mask\u001b[0m\u001b[0;34m\u001b[0m\u001b[0;34m\u001b[0m\u001b[0m\n\u001b[1;32m   1429\u001b[0m \u001b[0;34m\u001b[0m\u001b[0m\n\u001b[0;32m-> 1430\u001b[0;31m             \u001b[0mx\u001b[0m\u001b[0;34m,\u001b[0m \u001b[0my\u001b[0m\u001b[0;34m,\u001b[0m \u001b[0mz\u001b[0m \u001b[0;34m=\u001b[0m \u001b[0mself\u001b[0m\u001b[0;34m.\u001b[0m\u001b[0m_contour_args\u001b[0m\u001b[0;34m(\u001b[0m\u001b[0margs\u001b[0m\u001b[0;34m,\u001b[0m \u001b[0mkwargs\u001b[0m\u001b[0;34m)\u001b[0m\u001b[0;34m\u001b[0m\u001b[0;34m\u001b[0m\u001b[0m\n\u001b[0m\u001b[1;32m   1431\u001b[0m \u001b[0;34m\u001b[0m\u001b[0m\n\u001b[1;32m   1432\u001b[0m             \u001b[0m_mask\u001b[0m \u001b[0;34m=\u001b[0m \u001b[0mma\u001b[0m\u001b[0;34m.\u001b[0m\u001b[0mgetmask\u001b[0m\u001b[0;34m(\u001b[0m\u001b[0mz\u001b[0m\u001b[0;34m)\u001b[0m\u001b[0;34m\u001b[0m\u001b[0;34m\u001b[0m\u001b[0m\n",
      "\u001b[0;32m~/anaconda3/lib/python3.8/site-packages/matplotlib/contour.py\u001b[0m in \u001b[0;36m_contour_args\u001b[0;34m(self, args, kwargs)\u001b[0m\n\u001b[1;32m   1486\u001b[0m             \u001b[0margs\u001b[0m \u001b[0;34m=\u001b[0m \u001b[0margs\u001b[0m\u001b[0;34m[\u001b[0m\u001b[0;36m1\u001b[0m\u001b[0;34m:\u001b[0m\u001b[0;34m]\u001b[0m\u001b[0;34m\u001b[0m\u001b[0;34m\u001b[0m\u001b[0m\n\u001b[1;32m   1487\u001b[0m         \u001b[0;32melif\u001b[0m \u001b[0mNargs\u001b[0m \u001b[0;34m<=\u001b[0m \u001b[0;36m4\u001b[0m\u001b[0;34m:\u001b[0m\u001b[0;34m\u001b[0m\u001b[0;34m\u001b[0m\u001b[0m\n\u001b[0;32m-> 1488\u001b[0;31m             \u001b[0mx\u001b[0m\u001b[0;34m,\u001b[0m \u001b[0my\u001b[0m\u001b[0;34m,\u001b[0m \u001b[0mz\u001b[0m \u001b[0;34m=\u001b[0m \u001b[0mself\u001b[0m\u001b[0;34m.\u001b[0m\u001b[0m_check_xyz\u001b[0m\u001b[0;34m(\u001b[0m\u001b[0margs\u001b[0m\u001b[0;34m[\u001b[0m\u001b[0;34m:\u001b[0m\u001b[0;36m3\u001b[0m\u001b[0;34m]\u001b[0m\u001b[0;34m,\u001b[0m \u001b[0mkwargs\u001b[0m\u001b[0;34m)\u001b[0m\u001b[0;34m\u001b[0m\u001b[0;34m\u001b[0m\u001b[0m\n\u001b[0m\u001b[1;32m   1489\u001b[0m             \u001b[0margs\u001b[0m \u001b[0;34m=\u001b[0m \u001b[0margs\u001b[0m\u001b[0;34m[\u001b[0m\u001b[0;36m3\u001b[0m\u001b[0;34m:\u001b[0m\u001b[0;34m]\u001b[0m\u001b[0;34m\u001b[0m\u001b[0;34m\u001b[0m\u001b[0m\n\u001b[1;32m   1490\u001b[0m         \u001b[0;32melse\u001b[0m\u001b[0;34m:\u001b[0m\u001b[0;34m\u001b[0m\u001b[0;34m\u001b[0m\u001b[0m\n",
      "\u001b[0;32m~/anaconda3/lib/python3.8/site-packages/matplotlib/contour.py\u001b[0m in \u001b[0;36m_check_xyz\u001b[0;34m(self, args, kwargs)\u001b[0m\n\u001b[1;32m   1530\u001b[0m             \u001b[0mny\u001b[0m\u001b[0;34m,\u001b[0m \u001b[0;34m=\u001b[0m \u001b[0my\u001b[0m\u001b[0;34m.\u001b[0m\u001b[0mshape\u001b[0m\u001b[0;34m\u001b[0m\u001b[0;34m\u001b[0m\u001b[0m\n\u001b[1;32m   1531\u001b[0m             \u001b[0;32mif\u001b[0m \u001b[0mnx\u001b[0m \u001b[0;34m!=\u001b[0m \u001b[0mNx\u001b[0m\u001b[0;34m:\u001b[0m\u001b[0;34m\u001b[0m\u001b[0;34m\u001b[0m\u001b[0m\n\u001b[0;32m-> 1532\u001b[0;31m                 raise TypeError(f\"Length of x ({nx}) must match number of \"\n\u001b[0m\u001b[1;32m   1533\u001b[0m                                 f\"columns in z ({Nx})\")\n\u001b[1;32m   1534\u001b[0m             \u001b[0;32mif\u001b[0m \u001b[0mny\u001b[0m \u001b[0;34m!=\u001b[0m \u001b[0mNy\u001b[0m\u001b[0;34m:\u001b[0m\u001b[0;34m\u001b[0m\u001b[0;34m\u001b[0m\u001b[0m\n",
      "\u001b[0;31mTypeError\u001b[0m: Length of x (100) must match number of columns in z (99)"
     ]
    },
    {
     "data": {
      "image/png": "[encoded data removed]",
      "text/plain": [
       "<Figure size 432x288 with 1 Axes>"
      ]
     },
     "metadata": {
      "needs_background": "light"
     },
     "output_type": "display_data"
    }
   ],
   "source": [
    "damp = 0\n",
    "fig1,axes1 = plt.subplots(1,1)\n",
    "axes1.contourf(haxis,data.index.values,data.values-damp,levels=[-1e10,0,1e10],colors=['g','r'],antialiased=False)\n",
    "\n",
    "#axes1.axvline(x = -2052.158283362134,linewidth = 2,color='b')\n",
    "#axes1.axvline(x = -19900,linewidth = 2,color='y')\n",
    "#axes1.axvline(x = -22800,linewidth = 2,color='y')\n",
    "#axes1.axvline(x = -68000,linewidth = 2,color='y')\n",
    "\n",
    "#axes1.axvline(x = detune_final,linewidth = 5,color='b')\n",
    "\n",
    "fig1.set_figheight(30)\n",
    "fig1.set_figwidth(30)\n",
    "axes1.set_ylabel('Ib_DC [A]',fontsize=30)\n",
    "axes1.set_xlabel('df [Hz]',fontsize=30)\n",
    "\n",
    "fn_stab = os.path.join(cwd,'stability_map_mu_0.jpg')\n",
    "plt.savefig(fn_stab,bbox_inches='tight')\n",
    "plt.show()"
   ]
  },
  {
   "cell_type": "code",
   "execution_count": 11,
   "metadata": {},
   "outputs": [],
   "source": [
    "approxresultfn = 'ApproxImOmega0.txt'\n",
    "approxresultfn = os.path.join(cwd,approxresultfn)\n",
    "approxdata = pd.read_csv(approxresultfn)\n",
    "approxdata= approxdata.dropna(axis=1)\n",
    "haxis = [float(i) for i in approxdata.columns]"
   ]
  },
  {
   "cell_type": "code",
   "execution_count": 12,
   "metadata": {},
   "outputs": [
    {
     "data": {
      "image/png": "[encoded data removed]",
      "text/plain": [
       "<Figure size 2160x2160 with 1 Axes>"
      ]
     },
     "metadata": {},
     "output_type": "display_data"
    }
   ],
   "source": [
    "damp = 0\n",
    "fig1,axes1 = plt.subplots(1,1)\n",
    "axes1.contourf(haxis,approxdata.index.values,approxdata.values-damp,levels=[-1e10,0,1e10],colors=['g','r'])\n",
    "#axes1.contour(haxis,approxdata.index.values,approxdata.values-damp,levels=[-1e10,0,1e10])\n",
    "\n",
    "#axes1.axvline(x = 0,linewidth = 2,color='b')\n",
    "#axes1.axvline(x = -19900,linewidth = 2,color='y')\n",
    "#axes1.axvline(x = -22800,linewidth = 2,color='y')\n",
    "#axes1.axvline(x = -68000,linewidth = 2,color='y')\n",
    "\n",
    "#axes1.axvline(x = detune_final,linewidth = 5,color='b')\n",
    "\n",
    "fig1.set_figheight(30)\n",
    "fig1.set_figwidth(30)\n",
    "axes1.set_ylabel('Ib_DC [A]',fontsize=30)\n",
    "axes1.set_xlabel('df [Hz]',fontsize=30)\n",
    "\n",
    "fn_stab = os.path.join(cwd,'approxstability_map_mu_0.jpg')\n",
    "plt.savefig(fn_stab,bbox_inches='tight')\n",
    "plt.show()"
   ]
  },
  {
   "cell_type": "code",
   "execution_count": 15,
   "metadata": {},
   "outputs": [
    {
     "data": {
      "image/png": "[encoded data removed]",
      "text/plain": [
       "<Figure size 2160x2160 with 1 Axes>"
      ]
     },
     "metadata": {},
     "output_type": "display_data"
    }
   ],
   "source": [
    "fig1,axes1 = plt.subplots(1,1)\n",
    "axes1.plot(haxis,approxdata.iloc[0].values)\n",
    "\n",
    "#axes1.axvline(x = 0,linewidth = 2,color='b')\n",
    "#axes1.axvline(x = -19900,linewidth = 2,color='y')\n",
    "#axes1.axvline(x = -20790,linewidth = 2,color='g')\n",
    "#axes1.axvline(x = -68000,linewidth = 2,color='r')\n",
    "\n",
    "axes1.axhline(y = 0,linewidth = 2,color='g')\n",
    "\n",
    "#axes1.axvline(x = detune_final,linewidth = 5,color='b')\n",
    "\n",
    "fig1.set_figheight(30)\n",
    "fig1.set_figwidth(30)\n",
    "#axes1.set_ylabel('Ib_DC [A]',fontsize=30)\n",
    "#axes1.set_xlabel('df [Hz]',fontsize=30)\n",
    "\n",
    "#fn_stab = os.path.join(cwd,'stability_map_mu_0.jpg')\n",
    "#plt.savefig(fn_stab,bbox_inches='tight')\n",
    "plt.show()"
   ]
  },
  {
   "cell_type": "code",
   "execution_count": 14,
   "metadata": {},
   "outputs": [
    {
     "data": {
      "image/png": "[encoded data removed]",
      "text/plain": [
       "<Figure size 2160x2160 with 1 Axes>"
      ]
     },
     "metadata": {},
     "output_type": "display_data"
    }
   ],
   "source": [
    "damp = 0\n",
    "fig1,axes1 = plt.subplots(1,1)\n",
    "axes1.contourf(haxis,approxdata.index.values,approxdata.values-data.values,levels=[-1e1,0,1e10],colors=['g','r'])\n",
    "#axes1.contour(haxis,approxdata.index.values,approxdata.values-damp,levels=[-1e10,0,1e10])\n",
    "\n",
    "#axes1.axvline(x = 0,linewidth = 2,color='b')\n",
    "#axes1.axvline(x = -19900,linewidth = 2,color='y')\n",
    "#axes1.axvline(x = -22800,linewidth = 2,color='y')\n",
    "#axes1.axvline(x = -68000,linewidth = 2,color='y')\n",
    "\n",
    "#axes1.axvline(x = detune_final,linewidth = 5,color='b')\n",
    "\n",
    "fig1.set_figheight(30)\n",
    "fig1.set_figwidth(30)\n",
    "axes1.set_ylabel('Ib_DC [A]',fontsize=30)\n",
    "axes1.set_xlabel('df [Hz]',fontsize=30)\n",
    "\n",
    "fn_stab = os.path.join(cwd,'approx_iter_differentce_stability_map_mu_0.jpg')\n",
    "plt.savefig(fn_stab,bbox_inches='tight')\n",
    "plt.show()"
   ]
  },
  {
   "cell_type": "code",
   "execution_count": null,
   "metadata": {},
   "outputs": [],
   "source": [
    "fig1,axes1 = plt.subplots(1,1)\n",
    "axes1.plot(haxis,data.iloc[0].values-approxdata.iloc[0].values)\n",
    "\n",
    "axes1.axvline(x = 0,linewidth = 2,color='b')\n",
    "#axes1.axvline(x = -19900,linewidth = 2,color='y')\n",
    "#axes1.axvline(x = -20790,linewidth = 2,color='g')\n",
    "#axes1.axvline(x = -68000,linewidth = 2,color='r')\n",
    "\n",
    "axes1.axhline(y = 0,linewidth = 2,color='g')\n",
    "\n",
    "#axes1.axvline(x = detune_final,linewidth = 5,color='b')\n",
    "\n",
    "fig1.set_figheight(30)\n",
    "fig1.set_figwidth(30)\n",
    "#axes1.set_ylabel('Ib_DC [A]',fontsize=30)\n",
    "#axes1.set_xlabel('df [Hz]',fontsize=30)\n",
    "\n",
    "#fn_stab = os.path.join(cwd,'stability_map_mu_0.jpg')\n",
    "#plt.savefig(fn_stab,bbox_inches='tight')\n",
    "plt.show()"
   ]
  },
  {
   "cell_type": "code",
   "execution_count": null,
   "metadata": {},
   "outputs": [],
   "source": [
    "resultfn = 'ImOmega1259.txt'\n",
    "resultfn = os.path.join(cwd,resultfn)\n",
    "data2 = pd.read_csv(resultfn)\n",
    "data2= data2.dropna(axis=1)\n",
    "haxis = [float(i) for i in data2.columns]"
   ]
  },
  {
   "cell_type": "code",
   "execution_count": null,
   "metadata": {},
   "outputs": [],
   "source": [
    "fig1,axes1 = plt.subplots(1,1)\n",
    "axes1.contourf(haxis,data2.index.values,data2.values-0,levels=[-1e10,0,1e10],colors=['g','r'])\n",
    "\n",
    "axes1.axvline(x = 0,linewidth = 2,color='b')\n",
    "axes1.axvline(x = -19900,linewidth = 2,color='y')\n",
    "\n",
    "#axes1.axvline(x = detune_final,linewidth = 5,color='b')\n",
    "\n",
    "fig1.set_figheight(30)\n",
    "fig1.set_figwidth(30)\n",
    "axes1.set_ylabel('Ib_DC [A]',fontsize=30)\n",
    "axes1.set_xlabel('df [Hz]',fontsize=30)\n",
    "\n",
    "fn_stab = os.path.join(cwd,'stability_map_mu_1259.jpg')\n",
    "plt.savefig(fn_stab,bbox_inches='tight')\n",
    "plt.show()"
   ]
  },
  {
   "cell_type": "code",
   "execution_count": null,
   "metadata": {},
   "outputs": [],
   "source": [
    "fig1,axes1 = plt.subplots(1,1)\n",
    "axes1.plot(haxis,data2.iloc[-1].values-damp)\n",
    "\n",
    "axes1.axvline(x = 0,linewidth = 2,color='b')\n",
    "axes1.axvline(x = -19900,linewidth = 2,color='y')\n",
    "axes1.axvline(x = -20790,linewidth = 2,color='g')\n",
    "axes1.axhline(y = 0,linewidth = 2,color='g')\n",
    "\n",
    "#axes1.axvline(x = detune_final,linewidth = 5,color='b')\n",
    "\n",
    "fig1.set_figheight(30)\n",
    "fig1.set_figwidth(30)\n",
    "#axes1.set_ylabel('Ib_DC [A]',fontsize=30)\n",
    "#axes1.set_xlabel('df [Hz]',fontsize=30)\n",
    "\n",
    "#fn_stab = os.path.join(cwd,'stability_map_mu_0.jpg')\n",
    "#plt.savefig(fn_stab,bbox_inches='tight')\n",
    "plt.show()"
   ]
  },
  {
   "cell_type": "markdown",
   "metadata": {},
   "source": [
    "Debug Zone"
   ]
  },
  {
   "cell_type": "code",
   "execution_count": null,
   "metadata": {},
   "outputs": [],
   "source": [
    "resultfn = 'ImOmega_serial .txt'\n",
    "resultfn = os.path.join(cwd,resultfn)\n",
    "data = pd.read_csv(resultfn)\n"
   ]
  },
  {
   "cell_type": "code",
   "execution_count": null,
   "metadata": {},
   "outputs": [],
   "source": [
    "a= data.dropna(axis=1)"
   ]
  },
  {
   "cell_type": "code",
   "execution_count": null,
   "metadata": {},
   "outputs": [],
   "source": [
    "fig1,axes1 = plt.subplots(1,1)\n",
    "axes1.contourf(a.columns,a.index,a.values,levels=[-1e10,0,1e10],colors=['g','r'])\n",
    "\n",
    "axes1.axvline(x = len(a.columns)/2.0-0.5,linewidth = 15,color='b')\n",
    "#axes1.axvline(x = detune_final,linewidth = 5,color='b')\n",
    "\n",
    "fig1.set_figheight(120)\n",
    "fig1.set_figwidth(120)\n",
    "axes1.set_ylabel('Ib_DC [A]',fontsize=30)\n",
    "axes1.set_xlabel('df [Hz]',fontsize=30)\n",
    "\n",
    "fn_stab = os.path.join(cwd,'stability_map_mu_0.jpg')\n",
    "plt.savefig(fn_stab,bbox_inches='tight')\n",
    "plt.show()\n"
   ]
  },
  {
   "cell_type": "code",
   "execution_count": null,
   "metadata": {},
   "outputs": [],
   "source": [
    "resultfn = 'ImOmega_para.txt'\n",
    "resultfn = os.path.join(cwd,resultfn)\n",
    "datapara = pd.read_csv(resultfn)\n",
    "a= datapara.dropna(axis=1)"
   ]
  },
  {
   "cell_type": "code",
   "execution_count": null,
   "metadata": {},
   "outputs": [],
   "source": [
    "fig1,axes1 = plt.subplots(1,1)\n",
    "axes1.contourf(a.columns,a.index,a.values,levels=[-1e10,0,1e10],colors=['g','r'])\n",
    "\n",
    "axes1.axvline(x = len(a.columns)/2.0-0.5,linewidth = 15,color='b')\n",
    "#axes1.axvline(x = detune_final,linewidth = 5,color='b')\n",
    "\n",
    "fig1.set_figheight(60)\n",
    "fig1.set_figwidth(60)\n",
    "axes1.set_ylabel('Ib_DC [A]',fontsize=30)\n",
    "axes1.set_xlabel('df [Hz]',fontsize=30)\n",
    "\n",
    "fn_stab = os.path.join(cwd,'stability_map_mu_0.jpg')\n",
    "plt.savefig(fn_stab,bbox_inches='tight')\n",
    "plt.show()\n"
   ]
  },
  {
   "cell_type": "code",
   "execution_count": null,
   "metadata": {},
   "outputs": [],
   "source": [
    "resultfn = 'ImOmega_para2.txt'\n",
    "resultfn = os.path.join(cwd,resultfn)\n",
    "datapara = pd.read_csv(resultfn)\n",
    "c= datapara.dropna(axis=1)"
   ]
  },
  {
   "cell_type": "code",
   "execution_count": null,
   "metadata": {},
   "outputs": [],
   "source": [
    "fig1,axes1 = plt.subplots(1,1)\n",
    "axes1.contourf(c.columns,c.index,c.values-0,levels=[-1e2,0,1e10],colors=['g','r'])\n",
    "\n",
    "axes1.axvline(x = len(c.columns)/2.0-0.5,linewidth = 2,color='b')\n",
    "#axes1.axvline(x = detune_final,linewidth = 5,color='b')\n",
    "\n",
    "fig1.set_figheight(30)\n",
    "fig1.set_figwidth(30)\n",
    "axes1.set_ylabel('Ib_DC [A]',fontsize=30)\n",
    "axes1.set_xlabel('df [Hz]',fontsize=30)\n",
    "\n",
    "#fn_stab = os.path.join(cwd,'stability_map_mu_0.jpg')\n",
    "#plt.savefig(fn_stab,bbox_inches='tight')\n",
    "plt.show()"
   ]
  },
  {
   "cell_type": "code",
   "execution_count": null,
   "metadata": {},
   "outputs": [],
   "source": [
    "Vc = 23.7e6\n",
    "RoQ = 73*14\n",
    "QL = 3e4\n",
    "R = RoQ*QL\n",
    "Ib = 2.7*2/6\n",
    "I0 = Vc/R\n",
    "Y = Ib/I0\n",
    "print(\"R = \",R/1e6/14)\n",
    "print(\"Y = \",Y)"
   ]
  },
  {
   "cell_type": "code",
   "execution_count": 123,
   "metadata": {},
   "outputs": [
    {
     "data": {
      "text/plain": [
       "5000.0"
      ]
     },
     "execution_count": 123,
     "metadata": {},
     "output_type": "execute_result"
    }
   ],
   "source": [
    "0.06/12e-6"
   ]
  },
  {
   "cell_type": "code",
   "execution_count": null,
   "metadata": {},
   "outputs": [],
   "source": []
  }
 ],
 "metadata": {
  "kernelspec": {
   "display_name": "Python 3",
   "language": "python",
   "name": "python3"
  },
  "language_info": {
   "codemirror_mode": {
    "name": "ipython",
    "version": 3
   },
   "file_extension": ".py",
   "mimetype": "text/x-python",
   "name": "python",
   "nbconvert_exporter": "python",
   "pygments_lexer": "ipython3",
   "version": "3.8.5"
  }
 },
 "nbformat": 4,
 "nbformat_minor": 2
}
